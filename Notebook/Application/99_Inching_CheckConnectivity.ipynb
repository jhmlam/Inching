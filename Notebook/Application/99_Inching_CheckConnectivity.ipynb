{
 "cells": [
  {
   "cell_type": "markdown",
   "metadata": {},
   "source": [
    "# Visualisation of eigenmodes\n",
    "\n",
    "In this notebook we will visualise the direction and magnitude of a selected eigenmode. Clearly, there are some interesting patterns."
   ]
  },
  {
   "cell_type": "code",
   "execution_count": 1,
   "metadata": {},
   "outputs": [
    {
     "name": "stderr",
     "output_type": "stream",
     "text": [
      "Warning: importing 'simtk.openmm' is deprecated.  Import 'openmm' instead.\n"
     ]
    }
   ],
   "source": [
    "\n",
    "import sys\n",
    "import pickle\n",
    "import numpy as np\n",
    "import gc\n",
    "import glob\n",
    "import scipy.stats\n",
    "import sklearn.cluster\n",
    "import shutil\n",
    "sys.path.append('..')\n",
    "sys.path.append('../../')\n",
    "sys.path.append('../../InchingLite/')\n",
    "import InchingLite.Burn.Orthogonalization.T3\n",
    "import InchingLite.Burn.Orthogonalization.T2\n",
    "import InchingLite.Burn.Orthogonalization.T1\n",
    "import InchingLite.Burn.Krylov.T3\n",
    "import InchingLite.util\n",
    "from InchingLite.Fuel.Coordinate.T1 import HeigvecOne_BoxCoxMagnitude"
   ]
  },
  {
   "cell_type": "markdown",
   "metadata": {},
   "source": [
    "# Visualization parameters\n",
    "To visualize the eigenmodes with arrows, change `pdbavail = ['../../DataRepo/CifShowcase/AirplaneYesH.cif']` to the initial structure. The `Bechmarking_folder = \"../../DataRepo/VisualizationExample%s/\" %(pdbid)` defined automatically in the subsequent for loop will store the eigenvector calculated, where we will look for `{Bechmarking_folder}/Eigvec_*_{pdbid}*.pkl`. "
   ]
  },
  {
   "cell_type": "code",
   "execution_count": 2,
   "metadata": {},
   "outputs": [],
   "source": [
    "\n",
    "\n",
    "pdbavail = [  \n",
    "            '../../DataRepo/CifShowcase/7r5jCombined5.cif']\n",
    "User_TheModeToShow = 6 # NOTE for airplane it should be 0,1 as EED was applied. For 3j3q 6. For Npc 0,1,2\n",
    "User_QuantileDisplay = 0.3 # NOTE Control the upper quantile threshold of what to be displayed\n",
    "User_RandomPickArrows = 10000\n",
    "User_EigenvectorTwinDirection = 1 # NOTE This is +/- of the eigevector\n",
    "\n",
    "# =========\n",
    "# Big arrow\n",
    "# ===========\n",
    "User_BigClusterArrowFloatingFactor = 0.5\n",
    "User_DBscanMinDist = 1.5 # NOTE THis roughly cluster the 90% percentile arrows. largerr the less arrows\n",
    "\n",
    "\n",
    "# =================\n",
    "# animation\n",
    "# =========================\n",
    "User_ScalingAmplitudeAnimation = 4   # NOTE typicla value (2,1) for small amplitude fine movement or (4,2) for really large amplitude extrapolation where crack start filling in\n",
    "User_ScalingStepSizeAnimation  = 4   # \n"
   ]
  },
  {
   "cell_type": "markdown",
   "metadata": {},
   "source": [
    "# Check Connectivity and Report DIsconnect\n",
    "8 angstrom"
   ]
  },
  {
   "cell_type": "code",
   "execution_count": 3,
   "metadata": {},
   "outputs": [
    {
     "name": "stdout",
     "output_type": "stream",
     "text": [
      "../../DataRepo/CifShowcase/7r5jCombined5.cif\n"
     ]
    }
   ],
   "source": [
    "\n",
    "\n",
    "benchmark_inching = []\n",
    "for pdbfn in pdbavail:\n",
    "    print(pdbfn)\n",
    "    #if \"5h2f\" in pdbfn:\n",
    "    #    continue\n",
    "\n",
    "    PART00_IO = True\n",
    "    if PART00_IO:\n",
    "\n",
    "        pdbid = pdbfn.split(\"/\")[-1].split(\".\")[0]\n",
    "\n",
    "        # ============================\n",
    "        # Where to store\n",
    "        # ==========================\n",
    "\n",
    "\n",
    "        X_df, X_top = InchingLite.util.BasicPdbCifLoading(pdbfn)\n",
    "        #protein_xyz = X_df[['x','y','z']].to_numpy().astype(np.float64)\n",
    "        #protein_xyz -= protein_xyz.mean(axis= 0)\n",
    "        X_df.loc[:,'serial'] = X_df.index.tolist()\n"
   ]
  },
  {
   "cell_type": "code",
   "execution_count": null,
   "metadata": {},
   "outputs": [],
   "source": []
  },
  {
   "cell_type": "markdown",
   "metadata": {},
   "source": [
    "# CA\n",
    "\n",
    "For simplicity we will do CA clustering"
   ]
  },
  {
   "cell_type": "code",
   "execution_count": 4,
   "metadata": {},
   "outputs": [
    {
     "name": "stdout",
     "output_type": "stream",
     "text": [
      "BELOW ARE DISCONNECTED\n",
      "(array([0], dtype=int64), array([615880], dtype=int64))\n",
      "Empty DataFrame\n",
      "Columns: [serial, name, element, resSeq, resName, chainID, segmentID, x, y, z, cluster]\n",
      "Index: []\n"
     ]
    },
    {
     "name": "stderr",
     "output_type": "stream",
     "text": [
      "c:\\Users\\Jordy\\anaconda3\\envs\\Inching2\\lib\\site-packages\\pandas\\core\\indexing.py:1667: SettingWithCopyWarning: \n",
      "A value is trying to be set on a copy of a slice from a DataFrame.\n",
      "Try using .loc[row_indexer,col_indexer] = value instead\n",
      "\n",
      "See the caveats in the documentation: https://pandas.pydata.org/pandas-docs/stable/user_guide/indexing.html#returning-a-view-versus-a-copy\n",
      "  self.obj[key] = value\n"
     ]
    }
   ],
   "source": [
    "import sklearn.cluster\n",
    "Ca_df = X_df.loc[X_df['name'] == 'CA'] \n",
    "Ca_xyz = Ca_df[['x','y','z']].to_numpy().astype(np.float32)\n",
    "\n",
    "clustering = sklearn.cluster.DBSCAN(eps=0.8, min_samples=1, \n",
    "                        metric='euclidean', metric_params=None, \n",
    "                        algorithm='auto', leaf_size=30, p=2, n_jobs=None).fit(Ca_xyz)\n",
    "\n",
    "Ca_df.loc[:,'cluster'] = clustering.labels_.tolist()\n",
    "print(\"BELOW ARE DISCONNECTED\")\n",
    "print(np.unique(clustering.labels_, return_counts=True))\n",
    "print(Ca_df.loc[~Ca_df['cluster'].isin([0,-1])])"
   ]
  },
  {
   "cell_type": "markdown",
   "metadata": {},
   "source": [
    "# All atoms"
   ]
  },
  {
   "cell_type": "code",
   "execution_count": 5,
   "metadata": {},
   "outputs": [
    {
     "name": "stdout",
     "output_type": "stream",
     "text": [
      "BELOW ARE DISCONNECTED\n",
      "(array([0], dtype=int64), array([6852552], dtype=int64))\n",
      "Empty DataFrame\n",
      "Columns: [serial, name, element, resSeq, resName, chainID, segmentID, x, y, z, cluster]\n",
      "Index: []\n",
      "CONGRATULATIONS! No disconnection!\n"
     ]
    }
   ],
   "source": [
    "import sklearn.cluster\n",
    "X_df_ = X_df\n",
    "X_xyz = X_df[['x','y','z']].to_numpy().astype(np.float32)\n",
    "\n",
    "clustering2 = sklearn.cluster.DBSCAN(eps=0.8, min_samples=1, \n",
    "                        metric='euclidean', metric_params=None, \n",
    "                        algorithm='auto', leaf_size=30, p=2, n_jobs=None).fit(X_xyz)\n",
    "\n",
    "X_df_.loc[:,'cluster'] = clustering2.labels_.tolist()\n",
    "print(\"BELOW ARE DISCONNECTED\")\n",
    "print(np.unique(clustering2.labels_, return_counts=True))\n",
    "print(X_df_.loc[~X_df_['cluster'].isin([0,-1])])\n",
    "\n",
    "if X_df_.loc[~X_df_['cluster'].isin([0,-1])].shape[0] == 0:\n",
    "    print(\"CONGRATULATIONS! No disconnection!\")"
   ]
  },
  {
   "cell_type": "markdown",
   "metadata": {},
   "source": [
    "# WRite out the disconnected with b factor = 1 else 0"
   ]
  },
  {
   "cell_type": "code",
   "execution_count": null,
   "metadata": {},
   "outputs": [],
   "source": [
    "InchingLite.util.BasicPdbCifWriting( ref_structure_dir = pdbfn,         # Expect a pdb file directory\n",
    "                        save_structure_dir = \"haha.cif\",        # Expect a pdb file directory\n",
    "                        position = X_df[['x','y','z']].to_numpy(),   # Accepting a 3D tensor (t,n,3)\n",
    "                        keepIds=True,\n",
    "                        SaveFormat = 'cif', SaveSeparate = False, \n",
    "                        User_Bfactor = None)"
   ]
  }
 ],
 "metadata": {
  "interpreter": {
   "hash": "ec6c2d9cbfbaa729ccdd92f31e2be6fcbb66830e090159c2cc22789694c7cf7c"
  },
  "kernelspec": {
   "display_name": "Python 3.8.12 ('Inching2')",
   "language": "python",
   "name": "python3"
  },
  "language_info": {
   "codemirror_mode": {
    "name": "ipython",
    "version": 3
   },
   "file_extension": ".py",
   "mimetype": "text/x-python",
   "name": "python",
   "nbconvert_exporter": "python",
   "pygments_lexer": "ipython3",
   "version": "3.8.13"
  },
  "orig_nbformat": 4
 },
 "nbformat": 4,
 "nbformat_minor": 2
}
