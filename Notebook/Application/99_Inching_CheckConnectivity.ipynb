{
 "cells": [
  {
   "cell_type": "markdown",
   "metadata": {},
   "source": [
    "# Visualisation of eigenmodes\n",
    "\n",
    "In this notebook we will visualise the direction and magnitude of a selected eigenmode. Clearly, there are some interesting patterns."
   ]
  },
  {
   "cell_type": "code",
   "execution_count": 23,
   "metadata": {},
   "outputs": [],
   "source": [
    "\n",
    "import sys\n",
    "import pickle\n",
    "import numpy as np\n",
    "import gc\n",
    "import glob\n",
    "import scipy.stats\n",
    "import sklearn.cluster\n",
    "import shutil\n",
    "sys.path.append('..')\n",
    "sys.path.append('../../')\n",
    "sys.path.append('../../InchingLiteInteger/')\n",
    "import InchingLiteInteger.Burn.Orthogonalization.T3\n",
    "import InchingLiteInteger.Burn.Orthogonalization.T2\n",
    "import InchingLiteInteger.Burn.Orthogonalization.T1\n",
    "import InchingLiteInteger.Burn.Krylov.T3\n",
    "import InchingLiteInteger.util\n",
    "from InchingLiteInteger.Fuel.Coordinate.T1 import HeigvecOne_BoxCoxMagnitude"
   ]
  },
  {
   "cell_type": "markdown",
   "metadata": {},
   "source": [
    "# Visualization parameters\n",
    "To visualize the eigenmodes with arrows, change `pdbavail = ['../../DataRepo/CifShowcase/AirplaneYesH.cif']` to the initial structure. The `Bechmarking_folder = \"../../DataRepo/VisualizationExample%s/\" %(pdbid)` defined automatically in the subsequent for loop will store the eigenvector calculated, where we will look for `{Bechmarking_folder}/Eigvec_*_{pdbid}*.pkl`. "
   ]
  },
  {
   "cell_type": "code",
   "execution_count": 24,
   "metadata": {},
   "outputs": [],
   "source": [
    "\n",
    "pdbavail = [  \n",
    "            '../../DataRepo/PdbByAtomCount/4y5z.pdb']\n",
    "User_TheModeToShow = 6 # NOTE for airplane it should be 0,1 as EED was applied. For 3j3q 6. For Npc 0,1,2\n",
    "User_QuantileDisplay = 0.3 # NOTE Control the upper quantile threshold of what to be displayed\n",
    "User_RandomPickArrows = 10000\n",
    "User_EigenvectorTwinDirection = 1 # NOTE This is +/- of the eigevector\n",
    "\n",
    "# =========\n",
    "# Big arrow\n",
    "# ===========\n",
    "User_BigClusterArrowFloatingFactor = 0.5\n",
    "User_DBscanMinDist = 1.5 # NOTE THis roughly cluster the 90% percentile arrows. largerr the less arrows\n",
    "\n",
    "\n",
    "# =================\n",
    "# animation\n",
    "# =========================\n",
    "User_ScalingAmplitudeAnimation = 4   # NOTE typicla value (2,1) for small amplitude fine movement or (4,2) for really large amplitude extrapolation where crack start filling in\n",
    "User_ScalingStepSizeAnimation  = 4   # \n"
   ]
  },
  {
   "cell_type": "markdown",
   "metadata": {},
   "source": [
    "# Check Connectivity and Report DIsconnect\n",
    "8 angstrom"
   ]
  },
  {
   "cell_type": "code",
   "execution_count": 25,
   "metadata": {},
   "outputs": [
    {
     "name": "stdout",
     "output_type": "stream",
     "text": [
      "../../DataRepo/PdbByAtomCount/4y5z.pdb\n"
     ]
    }
   ],
   "source": [
    "\n",
    "\n",
    "benchmark_inching = []\n",
    "for pdbfn in pdbavail:\n",
    "    print(pdbfn)\n",
    "    #if \"5h2f\" in pdbfn:\n",
    "    #    continue\n",
    "\n",
    "    PART00_IO = True\n",
    "    if PART00_IO:\n",
    "\n",
    "        pdbid = pdbfn.split(\"/\")[-1].split(\".\")[0]\n",
    "\n",
    "        # ============================\n",
    "        # Where to store\n",
    "        # ==========================\n",
    "\n",
    "\n",
    "        X_df, X_top = InchingLiteInteger.util.BasicPdbCifLoading(pdbfn)\n",
    "        #protein_xyz = X_df[['x','y','z']].to_numpy().astype(np.float64)\n",
    "        #protein_xyz -= protein_xyz.mean(axis= 0)\n",
    "        X_df.loc[:,'serial'] = X_df.index.tolist()\n"
   ]
  },
  {
   "cell_type": "code",
   "execution_count": null,
   "metadata": {},
   "outputs": [],
   "source": []
  },
  {
   "cell_type": "markdown",
   "metadata": {},
   "source": [
    "# CA\n",
    "\n",
    "For simplicity we will do CA clustering"
   ]
  },
  {
   "cell_type": "code",
   "execution_count": 26,
   "metadata": {},
   "outputs": [
    {
     "name": "stdout",
     "output_type": "stream",
     "text": [
      "BELOW ARE DISCONNECTED\n",
      "(array([0]), array([11534]))\n",
      "Empty DataFrame\n",
      "Columns: [serial, name, element, resSeq, resName, chainID, segmentID, x, y, z, cluster]\n",
      "Index: []\n"
     ]
    },
    {
     "name": "stderr",
     "output_type": "stream",
     "text": [
      "/home/homingla/anaconda3/envs/V0/envs/Inching23/lib/python3.8/site-packages/pandas/core/indexing.py:1667: SettingWithCopyWarning: \n",
      "A value is trying to be set on a copy of a slice from a DataFrame.\n",
      "Try using .loc[row_indexer,col_indexer] = value instead\n",
      "\n",
      "See the caveats in the documentation: https://pandas.pydata.org/pandas-docs/stable/user_guide/indexing.html#returning-a-view-versus-a-copy\n",
      "  self.obj[key] = value\n"
     ]
    }
   ],
   "source": [
    "import sklearn.cluster\n",
    "Ca_df = X_df.loc[X_df['name'] == 'CA'] \n",
    "Ca_xyz = Ca_df[['x','y','z']].to_numpy().astype(np.float32)\n",
    "\n",
    "clustering = sklearn.cluster.DBSCAN(eps=0.6, min_samples=1, \n",
    "                        metric='euclidean', metric_params=None, \n",
    "                        algorithm='auto', leaf_size=30, p=2, n_jobs=None).fit(Ca_xyz)\n",
    "\n",
    "Ca_df.loc[:,'cluster'] = clustering.labels_.tolist()\n",
    "print(\"BELOW ARE DISCONNECTED\")\n",
    "print(np.unique(clustering.labels_, return_counts=True))\n",
    "print(Ca_df.loc[~Ca_df['cluster'].isin([0,-1])])"
   ]
  },
  {
   "cell_type": "markdown",
   "metadata": {},
   "source": [
    "# All atoms"
   ]
  },
  {
   "cell_type": "code",
   "execution_count": 22,
   "metadata": {},
   "outputs": [
    {
     "name": "stdout",
     "output_type": "stream",
     "text": [
      "BELOW ARE DISCONNECTED\n",
      "(array([ 0,  1,  2,  3,  4,  5,  6,  7,  8,  9, 10, 11, 12, 13, 14, 15]), array([66941,     1,     1,     1,     1,     1,     1,     1,     1,\n",
      "           1,     1,     1,     1,     1,     1,     1]))\n",
      "       serial name element  resSeq resName  chainID segmentID        x  \\\n",
      "63305   63305    O       O     547     HOH       31             8.9433   \n",
      "63459   63459    O       O     701     HOH       31            10.4241   \n",
      "63800   63800    O       O     586     HOH       33            -2.6256   \n",
      "64116   64116    O       O    6114     HOH       34            -7.3706   \n",
      "64236   64236    O       O    6009     HOH       35             0.3716   \n",
      "64376   64376    O       O    5955     HOH       36             0.0251   \n",
      "64491   64491    O       O    6070     HOH       36            -3.3166   \n",
      "64742   64742    O       O     670     HOH       37            -3.9618   \n",
      "64939   64939    O       O     654     HOH       38            -5.8590   \n",
      "65197   65197    O       O     686     HOH       39             6.5726   \n",
      "65376   65376    O       O     631     HOH       40            -0.8348   \n",
      "65830   65830    O       O     655     HOH       42             7.4911   \n",
      "66198   66198    O       O     624     HOH       44            -0.1512   \n",
      "66435   66435    O       O    6110     HOH       45             0.2480   \n",
      "66947   66947    O       O     720     HOH       47             4.2856   \n",
      "\n",
      "             y       z  cluster  \n",
      "63305  -1.5326  3.9864        1  \n",
      "63459   0.6394  5.1499        2  \n",
      "63800   2.1381  9.7285        3  \n",
      "64116  -5.6037  5.4121        4  \n",
      "64236  -4.2230 -3.2686        5  \n",
      "64376  -4.6151 -1.9610        6  \n",
      "64491 -11.7182 -4.0351        7  \n",
      "64742  -9.8896 -3.6325        8  \n",
      "64939  -7.9918  3.3310        9  \n",
      "65197  -0.2349  8.4952       10  \n",
      "65376  -3.3564  4.1780       11  \n",
      "65830 -11.2652 -4.2922       12  \n",
      "66198 -10.5411  2.4720       13  \n",
      "66435  -7.6652  9.2933       14  \n",
      "66947  -7.1112  9.9887       15  \n"
     ]
    }
   ],
   "source": [
    "import sklearn.cluster\n",
    "X_df_ = X_df\n",
    "X_xyz = X_df[['x','y','z']].to_numpy().astype(np.float32)\n",
    "\n",
    "clustering2 = sklearn.cluster.DBSCAN(eps=0.6, min_samples=1, \n",
    "                        metric='euclidean', metric_params=None, \n",
    "                        algorithm='auto', leaf_size=30, p=2, n_jobs=None).fit(X_xyz)\n",
    "\n",
    "X_df_.loc[:,'cluster'] = clustering2.labels_.tolist()\n",
    "print(\"BELOW ARE DISCONNECTED\")\n",
    "print(np.unique(clustering2.labels_, return_counts=True))\n",
    "print(X_df_.loc[~X_df_['cluster'].isin([0,-1])])\n",
    "\n",
    "if X_df_.loc[~X_df_['cluster'].isin([0,-1])].shape[0] == 0:\n",
    "    print(\"CONGRATULATIONS! No disconnection!\")"
   ]
  },
  {
   "cell_type": "markdown",
   "metadata": {},
   "source": [
    "# WRite out the disconnected with b factor = 1 else 0"
   ]
  },
  {
   "cell_type": "code",
   "execution_count": 7,
   "metadata": {},
   "outputs": [],
   "source": [
    "InchingLiteInteger.util.BasicPdbCifWriting( ref_structure_dir = pdbfn,         # Expect a pdb file directory\n",
    "                        save_structure_dir = \"haha.cif\",        # Expect a pdb file directory\n",
    "                        position = X_df[['x','y','z']].to_numpy()[None,:,:],   # Accepting a 3D tensor (t,n,3)\n",
    "                        keepIds=True,\n",
    "                        SaveFormat = 'cif', SaveSeparate = False, \n",
    "                        User_Bfactor = None)"
   ]
  }
 ],
 "metadata": {
  "interpreter": {
   "hash": "ec6c2d9cbfbaa729ccdd92f31e2be6fcbb66830e090159c2cc22789694c7cf7c"
  },
  "kernelspec": {
   "display_name": "Python 3.8.12 ('Inching2')",
   "language": "python",
   "name": "python3"
  },
  "language_info": {
   "codemirror_mode": {
    "name": "ipython",
    "version": 3
   },
   "file_extension": ".py",
   "mimetype": "text/x-python",
   "name": "python",
   "nbconvert_exporter": "python",
   "pygments_lexer": "ipython3",
   "version": "3.8.12"
  },
  "orig_nbformat": 4
 },
 "nbformat": 4,
 "nbformat_minor": 2
}
