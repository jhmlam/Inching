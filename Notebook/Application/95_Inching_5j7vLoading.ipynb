{
 "cells": [
  {
   "cell_type": "markdown",
   "metadata": {},
   "source": [
    "# Retrieve 5j7v"
   ]
  },
  {
   "cell_type": "code",
   "execution_count": 1,
   "metadata": {},
   "outputs": [
    {
     "name": "stderr",
     "output_type": "stream",
     "text": [
      "Warning: importing 'simtk.openmm' is deprecated.  Import 'openmm' instead.\n",
      "/home/homingla/anaconda3/envs/V0/envs/Inching23/lib/python3.8/site-packages/tqdm/auto.py:21: TqdmWarning: IProgress not found. Please update jupyter and ipywidgets. See https://ipywidgets.readthedocs.io/en/stable/user_install.html\n",
      "  from .autonotebook import tqdm as notebook_tqdm\n"
     ]
    }
   ],
   "source": [
    "\n",
    "import sys\n",
    "import pickle\n",
    "import numpy as np\n",
    "import gc\n",
    "import glob\n",
    "import scipy.stats\n",
    "import sklearn.cluster\n",
    "import shutil\n",
    "sys.path.append('..')\n",
    "sys.path.append('../../')\n",
    "sys.path.append('../../InchingLiteInteger/')\n",
    "import InchingLiteInteger.Burn.Orthogonalization.T3\n",
    "import InchingLiteInteger.Burn.Orthogonalization.T2\n",
    "import InchingLiteInteger.Burn.Orthogonalization.T1\n",
    "import InchingLiteInteger.Burn.Krylov.T3\n",
    "import InchingLiteInteger.util\n",
    "from InchingLiteInteger.Fuel.Coordinate.T1 import HeigvecOne_BoxCoxMagnitude\n",
    "\n",
    "\n",
    "import tqdm\n",
    "\n",
    "import openmm.app as mmapp\n",
    "import mdtraj\n"
   ]
  },
  {
   "cell_type": "markdown",
   "metadata": {},
   "source": []
  },
  {
   "cell_type": "markdown",
   "metadata": {},
   "source": [
    "# Doesn ot complete"
   ]
  },
  {
   "cell_type": "code",
   "execution_count": null,
   "metadata": {},
   "outputs": [],
   "source": [
    "\n"
   ]
  },
  {
   "cell_type": "code",
   "execution_count": 2,
   "metadata": {},
   "outputs": [
    {
     "name": "stdout",
     "output_type": "stream",
     "text": [
      "reading postino\n"
     ]
    }
   ],
   "source": [
    "\n",
    "import time\n",
    "def SaveReducedModel(inputpdbfn = \"../../DataRepo/CifByAtomCount/5iv7.cif\",\n",
    "                     outputfolder = \"./\",\n",
    "                     subsetkeywords = [\"name CA\", ]):\n",
    "    \n",
    "    st = time.time()\n",
    "    print(\"reading postino\")\n",
    "    pdb = mmapp.pdbxfile.PDBxFile(inputpdbfn)\n",
    "    fileunit = 1.0  \n",
    "\n",
    "    pdbid = inputpdbfn.split(\"/\")[-1].split(\".\")[0]\n",
    "\n",
    "    pdb_position = pdb.getPositions(asNumpy=True, frame=0) * fileunit\n",
    "    print(\"finish postino\", time.time() - st)\n",
    "    st = time.time()\n",
    "    print(\"Reading inital topology\")\n",
    "    # NOTE This is a redundant step we need cleaning but not at openmm\n",
    "    top = mdtraj.Topology.from_openmm(pdb.topology) # TODO Copy the whole class from mdtraj to a util to reduce the load and reliance\n",
    "    topology_df, bond_df = top.to_dataframe()\n",
    "    topology_df.loc[:, ['x', 'y', 'z']] = pdb_position\n",
    "    print(\"Finish inital topology\", time.time() - st)\n",
    "    position = topology_df[['x', 'y', 'z']].values\n",
    "    print(bond_df.shape, topology_df.shape)\n",
    "    #print(bond_df)\n",
    "    #return\n",
    "\n",
    "    #return\n",
    "    for i_subset in range(len(subsetkeywords)):\n",
    "        st = time.time()\n",
    "        print(\"Compiling position\")\n",
    "\n",
    "        #print(bond_df[idx_sele,:], )\n",
    "\n",
    "\n",
    "        idx_sele = top.select(subsetkeywords[i_subset])\n",
    "        position_sele = position[idx_sele,:][None,:,:]\n",
    "\n",
    "        from openmm import Vec3\n",
    "        from openmm.unit import nanometers\n",
    "        # Overwrite exisiting\n",
    "        new_pos = []\n",
    "\n",
    "        for i in tqdm.tqdm(range(position_sele.shape[1])):\n",
    "                #print(position_sele[t,i,0])\n",
    "                new_pos.append(\n",
    "                    Vec3(\n",
    "                        float(position_sele[0,i,0]), \n",
    "                        float(position_sele[0,i,1]), \n",
    "                        float(position_sele[0,i,2]))*fileunit)\n",
    "\n",
    "\n",
    "        print(\"Finishe position\", time.time() - st)\n",
    "\n",
    "\n",
    "        st = time.time()\n",
    "        print(\"Compiling subset topology\")\n",
    "        \"\"\"\n",
    "        top_sele = top.subset(idx_sele)\n",
    "        #print(topology_df.iloc[idx_sele])\n",
    "        \"\"\"\n",
    "        topology_df_sele = topology_df.iloc[idx_sele].reset_index()\n",
    "        print(\"Finishe subset topology dataframe mdtrah\", time.time() - st)\n",
    "        top_sele = mdtraj.Topology.from_dataframe(topology_df_sele, None)# bond_df[idx_sele,:])\n",
    "        \n",
    "        print(\"Finishe subset topology mdtraj\", time.time() - st)\n",
    "        openmmtop_sele = top_sele.to_openmm()\n",
    "        print(\"Finishe subset topology\", time.time() - st)\n",
    "\n",
    "\n",
    "\n",
    "\n",
    "        # NOTE Remake positoopn\n",
    "\n",
    "        print(\"WRITTING\")\n",
    "        #continue\n",
    "        with open(\"%s/%s_%s.cif\" %(outputfolder, pdbid, subsetkeywords[i_subset].replace(\" \", \"\")), 'w') as tempfile:\n",
    "            mmapp.pdbxfile.PDBxFile.writeHeader(openmmtop_sele, file=tempfile,)\n",
    "            mmapp.pdbxfile.PDBxFile.writeModel(\n",
    "                            openmmtop_sele, new_pos, \n",
    "                            file=tempfile, keepIds=True, modelIndex = i)\n",
    "        print(\"Finishe writing\", time.time() - st)\n",
    "\n",
    "SaveReducedModel(inputpdbfn = \"../../DataRepo/CifShowcase/5j7v/5j7v-assembly1.cif\",\n",
    "                 outputfolder = \"../../DataRepo/CifShowcase/5j7v/\",\n",
    "                     subsetkeywords = [\"name CA\", \"backbone\"])\n"
   ]
  }
 ],
 "metadata": {
  "interpreter": {
   "hash": "ec6c2d9cbfbaa729ccdd92f31e2be6fcbb66830e090159c2cc22789694c7cf7c"
  },
  "kernelspec": {
   "display_name": "Python 3.8.12 ('Inching2')",
   "language": "python",
   "name": "python3"
  },
  "language_info": {
   "codemirror_mode": {
    "name": "ipython",
    "version": 3
   },
   "file_extension": ".py",
   "mimetype": "text/x-python",
   "name": "python",
   "nbconvert_exporter": "python",
   "pygments_lexer": "ipython3",
   "version": "3.8.12"
  },
  "orig_nbformat": 4
 },
 "nbformat": 4,
 "nbformat_minor": 2
}
