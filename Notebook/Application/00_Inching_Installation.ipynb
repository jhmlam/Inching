{
 "cells": [
  {
   "cell_type": "markdown",
   "metadata": {},
   "source": [
    "# Installation\n",
    "\n",
    "This notebook outlines installation process. Please consult your local IT support staffs and bioinformatics colleagues if you experience difficulty.\n",
    "\n",
    "# Hardware Requirement\n",
    "Below is a tested spec on hardware. To be updated. We only support Linux machines.\n",
    "\n",
    "* System. Ubuntu 20.04.3 LTS\n",
    "* Processor. AMD EPYC 7513 2.6 GHz Socket SP3 32-Core\n",
    "* Storage. 32 GB\n",
    "* RAM. 32 GB\n",
    "* Nvidia GPU. A100 with 40GB or 80GB memory. (Also seem to work on GeForce RTX 3060) \n"
   ]
  },
  {
   "cell_type": "markdown",
   "metadata": {},
   "source": [
    "\n",
    "# Software Requirement\n",
    "We have a few dependencies. A recommended installation protocol. \n",
    "1. Install Conda and Cuda related libraries. Please consult your local IT support staffs on how to install the followings. `gcc/11.3.0` is a C compiler. `cudnn/8.4.0.27-11.6` and `cuda/11.6.2` refers to CUDA and CuDNN. `conda/4.12.0` refers to anaconda. (And, please give them a kudo once it's done!)\n",
    "```\n",
    "module purge\n",
    "module load gcc/11.3.0\n",
    "module load cudnn/8.4.0.27-11.6\n",
    "module load cuda/11.6.2\n",
    "module load conda/4.12.0\n",
    "module load git\n",
    "```\n",
    "2. Conda install. A list of dependencies follows. \n",
    "```\n",
    "conda init bash\n",
    "conda config --set auto_activate_base false\n",
    "eval \"$(conda shell.bash hook)\"\n",
    "conda config --set auto_activate_base false\n",
    "conda deactivate \n",
    "conda create --name Inching23 python=3.8.12\n",
    "conda activate Inching23\n",
    "\n",
    "conda install -y -c conda-forge -c pytorch scipy=1.8.0 pytorch=1.11.0=py3.8_cuda11.3_cudnn8.2.0_0 cudatoolkit=11.3 seaborn=0.11.2 plotly=5.3.1  pandas=1.3.3 mdtraj=1.9.6 openmm=7.6.0 tqdm numba cutensor=1.6.2.3 cupy=11.5.0\n",
    "```\n",
    "3. Activate Environment. To use our software, activate the environment and refer to the next notebook.\n",
    "```\n",
    "conda activate Inching23\n",
    "```\n",
    "\n",
    "# Benchmark Dataset\n",
    "See notes in `https://github.com/jhmlam/InchingLiteData/README.md` \n",
    "\n"
   ]
  },
  {
   "cell_type": "markdown",
   "metadata": {},
   "source": [
    "# Test Your GPU\n",
    "We will see if the pytorch installed can detect your GPU. We require the use of GPU.\n"
   ]
  },
  {
   "cell_type": "code",
   "execution_count": null,
   "metadata": {
    "vscode": {
     "languageId": "plaintext"
    }
   },
   "outputs": [],
   "source": [
    "\n",
    "import torch\n",
    "\n",
    "print(torch.__version__)\n",
    "if torch.cuda.device_count() == 0:\n",
    "    print(\"TROUBLE. The program will never run.\")"
   ]
  }
 ],
 "metadata": {
  "language_info": {
   "name": "python"
  },
  "orig_nbformat": 4
 },
 "nbformat": 4,
 "nbformat_minor": 2
}
