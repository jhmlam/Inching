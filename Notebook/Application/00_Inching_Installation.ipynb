{
 "cells": [
  {
   "cell_type": "markdown",
   "metadata": {},
   "source": [
    "# Installation\n",
    "\n",
    "This notebook outlines installation process. Please consult your local IT support staffs and bioinformatics colleagues if you experience difficulty.\n",
    "\n",
    "# Hardware Requirement\n",
    "Below is a tested spec on hardware. To be updated. We only support Linux machines.\n",
    "\n",
    "* System. Ubuntu 20.04.3 LTS\n",
    "* Processor. AMD EPYC 7513 2.6 GHz Socket SP3 32-Core\n",
    "* Storage. 32 GB\n",
    "* RAM. 32 GB\n",
    "* Nvidia GPU. A100 with 40GB or 80GB memory. (Also works on GeForce RTX 3060 and RTX4090 with 24GB memory) \n"
   ]
  },
  {
   "cell_type": "markdown",
   "metadata": {},
   "source": [
    "\n",
    "# Software Requirement (Linux)\n",
    "We have a few dependencies. A recommended installation protocol.\n",
    "\n",
    "1. Install Conda and Cuda related libraries. Please consult your local IT support staffs on how to install the followings. `gcc/11.3.0` is a C compiler. `cudnn/8.4.0.27-11.6` and `cuda/11.6.2` refers to CUDA and CuDNN. `conda/4.12.0` refers to anaconda. (And, please give them a kudo once it's done!)\n",
    "```\n",
    "module purge\n",
    "module load gcc/11.3.0\n",
    "module load cudnn/8.4.0.27-11.6\n",
    "module load cuda/11.6.2\n",
    "module load conda/4.12.0\n",
    "module load git\n",
    "```\n",
    "2. Conda install. A list of dependencies follows. \n",
    "```\n",
    "conda init bash\n",
    "conda config --set auto_activate_base false\n",
    "eval \"$(conda shell.bash hook)\"\n",
    "conda config --set auto_activate_base false\n",
    "conda deactivate \n",
    "conda create --name Inching23 python=3.8.12\n",
    "conda activate Inching23\n",
    "\n",
    "conda install -y -c conda-forge -c pytorch scipy=1.8.0 pytorch=1.11.0=py3.8_cuda11.3_cudnn8.2.0_0 cudatoolkit=11.3 seaborn=0.11.2 plotly=5.3.1  pandas=1.3.3 mdtraj=1.9.6 openmm=7.6.0 tqdm numba cutensor=1.6.2.3 cupy=11.5.0\n",
    "```\n",
    "3. Activate Environment. To use our software, activate the environment and refer to the next notebook.\n",
    "```\n",
    "conda activate Inching23\n",
    "```\n",
    "\n",
    "# Software Requirement (Windows)\n",
    "\n",
    "Below is a non-controlled installation on Windows. Report bugs if any.\n",
    "\n",
    "```\n",
    "conda init bash\n",
    "conda config --set auto_activate_base false\n",
    "eval \"$(conda shell.bash hook)\"\n",
    "conda config --set auto_activate_base false\n",
    "conda deactivate \n",
    "conda create --name Inching23 python=3.8.12\n",
    "conda activate Inching23\n",
    "\n",
    "conda install -y -c conda-forge -c pytorch scipy seaborn pandas=1.3.3 ipykernel\n",
    "conda install -y -c conda-forge -c pytorch -c nvidia pytorch pytorch-cuda=12.1 mdtraj openmm tqdm cupy=12.2.0\n",
    "```\n"
   ]
  },
  {
   "cell_type": "markdown",
   "metadata": {},
   "source": [
    "# Test Your GPU\n",
    "We require the use of GPU. Todo assert this.\n"
   ]
  },
  {
   "cell_type": "code",
   "execution_count": null,
   "metadata": {},
   "outputs": [],
   "source": [
    "import cupy as cp \n",
    "A = cp.eye(100)\n",
    "v = cp.random.randn(100)\n",
    "for _ in range(1000):\n",
    "    A@v"
   ]
  },
  {
   "cell_type": "markdown",
   "metadata": {},
   "source": [
    "\n",
    "# Benchmark Dataset\n",
    "See notes in `https://github.com/jhmlam/InchingLiteData/README.md`. The `requests` module is not necessary for our program. You can install it colloquially with \n",
    "\n",
    "```\n",
    "conda activate Inching23\n",
    "conda install requests\n",
    "```\n",
    "\n",
    "Below is an example to download zenodo dataset. You will also need `7zip` to decompress. \n"
   ]
  },
  {
   "cell_type": "code",
   "execution_count": 1,
   "metadata": {},
   "outputs": [
    {
     "name": "stdout",
     "output_type": "stream",
     "text": [
      "Downloading: CifShowcase.7z\n",
      "Downloading: AUTHORS.md\n",
      "Downloading: PdbByAtomCount.7z\n",
      "Downloading: GOVERNANCE.md\n",
      "Downloading: CONTRIBUTING.md\n",
      "Downloading: CODE_OF_CONDUCT.md\n",
      "Downloading: Project-InchingBenchmarkDownload.7z\n",
      "Downloading: NOTICE\n",
      "Downloading: CifByAtomCount.7z\n",
      "Downloading: LICENSE\n",
      "Downloading: LICENSE.md\n",
      "Downloading: README.md\n",
      "200\n",
      "['https://zenodo.org/api/records/8087817/files/CifShowcase.7z/content', 'https://zenodo.org/api/records/8087817/files/AUTHORS.md/content', 'https://zenodo.org/api/records/8087817/files/PdbByAtomCount.7z/content', 'https://zenodo.org/api/records/8087817/files/GOVERNANCE.md/content', 'https://zenodo.org/api/records/8087817/files/CONTRIBUTING.md/content', 'https://zenodo.org/api/records/8087817/files/CODE_OF_CONDUCT.md/content', 'https://zenodo.org/api/records/8087817/files/Project-InchingBenchmarkDownload.7z/content', 'https://zenodo.org/api/records/8087817/files/NOTICE/content', 'https://zenodo.org/api/records/8087817/files/CifByAtomCount.7z/content', 'https://zenodo.org/api/records/8087817/files/LICENSE/content', 'https://zenodo.org/api/records/8087817/files/LICENSE.md/content', 'https://zenodo.org/api/records/8087817/files/README.md/content']\n"
     ]
    }
   ],
   "source": [
    "\n",
    "import requests\n",
    "# NOTE template from a help ticket! https://github.com/zenodo/zenodo/issues/1888\n",
    "\n",
    "#ACCESS_TOKEN = \"replace this with your access token\"\n",
    "FolderWrite = \"../../DataRepo/\" \n",
    "record_id = \"8087817\"\n",
    "\n",
    "r = requests.get(f\"https://zenodo.org/api/records/{record_id}\")#, params={'access_token': ACCESS_TOKEN})\n",
    "download_urls = [f['links']['self'] for f in r.json()['files']]\n",
    "filenames = [f['key'] for f in r.json()['files']]\n",
    "\n",
    "for filename, url in zip(filenames, download_urls):\n",
    "    print(\"Downloading:\", filename)\n",
    "    #if (\"PdbByAtomCount\" in filename) or (\"CifByAtomCount\" in filename):\n",
    "    r = requests.get(url)#, params={'access_token': ACCESS_TOKEN})\n",
    "    with open(FolderWrite + filename, 'wb') as f:\n",
    "        f.write(r.content)\n",
    "\n",
    "\n",
    "print(r.status_code)\n",
    "print(download_urls)\n",
    "\n",
    "# https://zenodo.org/records/8087817/files/PdbByAtomCount.7z?download=1\n",
    "# https://zenodo.org/records/8087817/files/CifByAtomCount.7z?download=1"
   ]
  }
 ],
 "metadata": {
  "kernelspec": {
   "display_name": "Inching23",
   "language": "python",
   "name": "python3"
  },
  "language_info": {
   "codemirror_mode": {
    "name": "ipython",
    "version": 3
   },
   "file_extension": ".py",
   "mimetype": "text/x-python",
   "name": "python",
   "nbconvert_exporter": "python",
   "pygments_lexer": "ipython3",
   "version": "3.8.12"
  },
  "orig_nbformat": 4
 },
 "nbformat": 4,
 "nbformat_minor": 2
}
